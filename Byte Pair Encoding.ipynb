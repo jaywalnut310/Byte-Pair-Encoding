{
 "cells": [
  {
   "cell_type": "code",
   "execution_count": 1,
   "metadata": {
    "collapsed": false
   },
   "outputs": [
    {
     "name": "stdout",
     "output_type": "stream",
     "text": [
      "('e', 's')\n",
      "('es', 't')\n",
      "('est', '</w>')\n",
      "('l', 'o')\n",
      "('lo', 'w')\n",
      "('n', 'e')\n",
      "('ne', 'w')\n",
      "('new', 'est</w>')\n",
      "('low', '</w>')\n",
      "('w', 'i')\n",
      "('wi', 'd')\n",
      "('wid', 'est</w>')\n",
      "('low', 'e')\n",
      "('lowe', 'r')\n",
      "('lower', '</w>')\n"
     ]
    }
   ],
   "source": [
    "\"\"\"\n",
    "source code: \"https://github.com/rsennrich/subword-nmt/blob/master/bpe_toy.py\"\n",
    "\"\"\"\n",
    "\n",
    "import re\n",
    "import sys\n",
    "import collections\n",
    "\n",
    "def get_stats(vocab):\n",
    "    pairs = collections.defaultdict(int)\n",
    "    for word, freq in vocab.items():\n",
    "        symbols = word.split()\n",
    "        for i in range(len(symbols)-1):\n",
    "            pairs[symbols[i],symbols[i+1]] += freq\n",
    "    return pairs\n",
    "\n",
    "def merge_vocab(pair, v_in):\n",
    "    v_out = {}\n",
    "    bigram_pattern = re.escape(' '.join(pair))\n",
    "    p = re.compile(r'(?<!\\S)' + bigram_pattern + r'(?!\\S)')\n",
    "    for word in v_in:\n",
    "        w_out = p.sub(''.join(pair), word)\n",
    "        v_out[w_out] = v_in[word]\n",
    "    return v_out\n",
    "\n",
    "vocab = {'l o w </w>' : 5, 'l o w e r </w>' : 2,\n",
    "         'n e w e s t </w>' : 6, 'w i d e s t </w>' : 3}\n",
    "num_merges = 15\n",
    "for i in range(num_merges):\n",
    "    pairs = get_stats(vocab)\n",
    "    best = max(pairs, key=pairs.get)\n",
    "    if pairs[best] < 2:\n",
    "        sys.stderr.write('no pair has frequency > 1. Stopping\\n')\n",
    "        break\n",
    "    vocab = merge_vocab(best, vocab)\n",
    "    print(best)"
   ]
  },
  {
   "cell_type": "markdown",
   "metadata": {},
   "source": [
    "# Byte Pair Encoding"
   ]
  },
  {
   "cell_type": "markdown",
   "metadata": {},
   "source": [
    "## For Test"
   ]
  },
  {
   "cell_type": "code",
   "execution_count": 2,
   "metadata": {
    "collapsed": true
   },
   "outputs": [],
   "source": [
    "def bpe_iter(data):\n",
    "    # calculate frq\n",
    "    pairs = collections.defaultdict(int)\n",
    "    data_arr = data.split()\n",
    "    for i in range(len(data_arr)-1):\n",
    "        pair = (data_arr[i], data_arr[i+1])\n",
    "        pairs[pair] += 1\n",
    "        \n",
    "    best = max(pairs, key=pairs.get)\n",
    "    if pairs[best] <= 1 :\n",
    "        return data\n",
    "    \n",
    "    data_new = data.replace(best[0] + ' ' + best[1], best[0] + best[1])\n",
    "    return data_new\n",
    "\n",
    "def bpe(data):\n",
    "    while True:\n",
    "        data_new = bpe_iter(data)\n",
    "\n",
    "        if data_new == data:\n",
    "            break\n",
    "        else:\n",
    "            data = data_new\n",
    "    return data_new"
   ]
  },
  {
   "cell_type": "code",
   "execution_count": 3,
   "metadata": {
    "collapsed": true
   },
   "outputs": [],
   "source": [
    "#def bpe_inv(data_new, voca):\n",
    "#    return data_inv"
   ]
  },
  {
   "cell_type": "code",
   "execution_count": 4,
   "metadata": {
    "collapsed": false
   },
   "outputs": [
    {
     "data": {
      "text/plain": [
       "'aaab d aaab a c'"
      ]
     },
     "execution_count": 4,
     "metadata": {},
     "output_type": "execute_result"
    }
   ],
   "source": [
    "data = \"a a a b d a a a b a c\"\n",
    "data_new = bpe(data)\n",
    "data_new"
   ]
  },
  {
   "cell_type": "code",
   "execution_count": 5,
   "metadata": {
    "collapsed": false
   },
   "outputs": [
    {
     "data": {
      "text/plain": [
       "'low . low est .. new ... new er .... wid er ..... low er ...... wid est'"
      ]
     },
     "execution_count": 5,
     "metadata": {},
     "output_type": "execute_result"
    }
   ],
   "source": [
    "data = \"l o w . l o w e s t .. n e w ... n e w e r .... w i d e r ..... l o w e r ...... w i d e s t\"\n",
    "data = bpe(data)\n",
    "data"
   ]
  },
  {
   "cell_type": "markdown",
   "metadata": {},
   "source": [
    "## For Translation"
   ]
  }
 ],
 "metadata": {
  "kernelspec": {
   "display_name": "Python 3",
   "language": "python",
   "name": "python3"
  },
  "language_info": {
   "codemirror_mode": {
    "name": "ipython",
    "version": 3
   },
   "file_extension": ".py",
   "mimetype": "text/x-python",
   "name": "python",
   "nbconvert_exporter": "python",
   "pygments_lexer": "ipython3",
   "version": "3.6.0"
  }
 },
 "nbformat": 4,
 "nbformat_minor": 2
}
